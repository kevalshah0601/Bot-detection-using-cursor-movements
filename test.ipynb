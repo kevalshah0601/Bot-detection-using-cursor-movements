{
 "cells": [
  {
   "cell_type": "code",
   "execution_count": 2,
   "metadata": {},
   "outputs": [],
   "source": [
    "from keras.models import load_model\n",
    "loaded_model = load_model('cursor_model')"
   ]
  },
  {
   "cell_type": "code",
   "execution_count": 23,
   "metadata": {},
   "outputs": [],
   "source": [
    "import numpy as np\n",
    "import matplotlib.pyplot as plt\n",
    "\n",
    "sqrt3 = np.sqrt(3)\n",
    "sqrt5 = np.sqrt(5)\n",
    "\n",
    "def wind_mouse(start_x, start_y, dest_x, dest_y, num_data_points, G_0=9, W_0=3, M_0=15, D_0=12, delta_t=0.01, interval=3.0):\n",
    "    '''\n",
    "    WindMouse algorithm. Returns x and y arrays, and plots the movement graph.\n",
    "    G_0 - magnitude of the gravitational force\n",
    "    W_0 - magnitude of the wind force fluctuations\n",
    "    M_0 - maximum step size (velocity clip threshold)\n",
    "    D_0 - distance where wind behavior changes from random to damped\n",
    "    delta_t - time interval to record data (default: 0.01 seconds)\n",
    "    interval - time interval to start a new line in the arrays (default: 3.0 seconds)\n",
    "    '''\n",
    "    current_x, current_y = start_x, start_y\n",
    "    v_x = v_y = W_x = W_y = 0\n",
    "\n",
    "    # print(\"start_x = \", start_x, \"start_y = \", start_y)\n",
    "    # print(\"dest_x = \", dest_x, \"dest_y = \", dest_y)\n",
    "    # print(\"num_data_points are \", num_data_points)\n",
    "    # print()\n",
    "\n",
    "    while (dist := np.hypot(dest_x - start_x, dest_y - start_y)) >= 1:\n",
    "        W_mag = min(W_0, dist)\n",
    "        if dist >= D_0:\n",
    "            W_x = W_x / sqrt3 + (2 * np.random.random() - 1) * W_mag / sqrt5\n",
    "            W_y = W_y / sqrt3 + (2 * np.random.random() - 1) * W_mag / sqrt5\n",
    "        else:\n",
    "            W_x /= sqrt3\n",
    "            W_y /= sqrt3\n",
    "            if M_0 < 3:\n",
    "                M_0 = np.random.random() * 3 + 3\n",
    "            else:\n",
    "                M_0 /= sqrt5\n",
    "        v_x += W_x + G_0 * (dest_x - start_x) / dist\n",
    "        v_y += W_y + G_0 * (dest_y - start_y) / dist\n",
    "        v_mag = np.hypot(v_x, v_y)\n",
    "        if v_mag > M_0:\n",
    "            v_clip = M_0 / 2 + np.random.random() * M_0 / 2\n",
    "            v_x = (v_x / v_mag) * v_clip\n",
    "            v_y = (v_y / v_mag) * v_clip\n",
    "        start_x += v_x\n",
    "        start_y += v_y\n",
    "\n",
    "        # Record data points at each delta_t interval\n",
    "        if num_data_points < interval/delta_t:\n",
    "            x_values.append(int(start_x))\n",
    "            y_values.append(int(start_y))\n",
    "            num_data_points += 1\n",
    "\n",
    "        else:\n",
    "          break\n",
    "\n",
    "    # print(\"num_data_points are \", num_data_points)\n",
    "    # print()\n",
    "\n",
    "    if(num_data_points < interval/delta_t):\n",
    "      start_x = dest_x\n",
    "      start_y = dest_y\n",
    "      dest_x  = np.random.randint(low_x,high_x)\n",
    "      dest_y  = np.random.randint(low_y,high_y)\n",
    "\n",
    "      wind_mouse(start_x, start_y, dest_x, dest_y, num_data_points)\n",
    "\n",
    "    # Plot the movement graph\n",
    "    # plt.plot(x_values, y_values, label=f'Dest ({dest_x}, {dest_y})')\n",
    "    # plt.xlabel('x')\n",
    "    # plt.ylabel('y')\n",
    "\n",
    "    # print(\"x vlaues : \", len(x_values))\n",
    "    # print(x_values)\n",
    "\n",
    "    # print(\"y vlaues : \", len(y_values))\n",
    "    # print(y_values)\n",
    "\n",
    "    # print()\n",
    "\n",
    "    return x_values, y_values\n",
    "\n",
    "# fig = plt.figure(figsize=[13, 13])\n",
    "# plt.axis('off')\n",
    "\n",
    "n_cycles = 1\n",
    "low_x = 0\n",
    "low_y = 0\n",
    "high_x = 1920\n",
    "high_y = 1080\n",
    "\n",
    "for i in range(n_cycles):\n",
    "\n",
    "  start_x  = np.random.randint(low_x,high_x)\n",
    "  start_y  = np.random.randint(low_y,high_y)\n",
    "  end_x  = np.random.randint(low_x,high_x)\n",
    "  end_y  = np.random.randint(low_y,high_y)\n",
    "\n",
    "  x_values = []  # Record x values\n",
    "  y_values = []  # Record y values\n",
    "  num_data_points = 0\n",
    "\n",
    "  x_values, y_values = wind_mouse(start_x, start_y, end_x, end_y, num_data_points)\n",
    "\n",
    "x_final = []\n",
    "for i in range(len(x_values)):\n",
    "   temp = []\n",
    "   temp.append(x_values[i])\n",
    "   temp.append(y_values[i])\n",
    "\n",
    "   x_final.append(temp)"
   ]
  },
  {
   "cell_type": "code",
   "execution_count": 24,
   "metadata": {},
   "outputs": [
    {
     "name": "stdout",
     "output_type": "stream",
     "text": [
      "(300, 2)\n"
     ]
    }
   ],
   "source": [
    "print(np.shape(x_final))"
   ]
  },
  {
   "cell_type": "code",
   "execution_count": 25,
   "metadata": {},
   "outputs": [
    {
     "name": "stdout",
     "output_type": "stream",
     "text": [
      "1/1 [==============================] - 0s 32ms/step\n",
      "[[0.9792251]]\n"
     ]
    }
   ],
   "source": [
    "prediction = loaded_model.predict([x_final])\n",
    "print(prediction)"
   ]
  }
 ],
 "metadata": {
  "kernelspec": {
   "display_name": "Python 3",
   "language": "python",
   "name": "python3"
  },
  "language_info": {
   "codemirror_mode": {
    "name": "ipython",
    "version": 3
   },
   "file_extension": ".py",
   "mimetype": "text/x-python",
   "name": "python",
   "nbconvert_exporter": "python",
   "pygments_lexer": "ipython3",
   "version": "3.8.10"
  },
  "orig_nbformat": 4
 },
 "nbformat": 4,
 "nbformat_minor": 2
}
