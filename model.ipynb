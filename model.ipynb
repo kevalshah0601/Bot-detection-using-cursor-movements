{
 "cells": [
  {
   "cell_type": "code",
   "execution_count": 2,
   "metadata": {},
   "outputs": [],
   "source": [
    "import pandas as pd\n",
    "import numpy as np\n",
    "from sklearn.model_selection import train_test_split\n",
    "from keras.models import Sequential\n",
    "from keras.layers import Dense, Dropout\n",
    "from keras.layers import Conv1D, LSTM, MaxPooling1D, Flatten\n",
    "from keras.optimizers import Adam"
   ]
  },
  {
   "cell_type": "code",
   "execution_count": 3,
   "metadata": {},
   "outputs": [],
   "source": [
    "data = pd.read_csv('mouse_data.csv')\n",
    "\n",
    "labels = data.iloc[:, -1].values  # Extract labels\n",
    "data = data.drop(columns = 'label')\n",
    "data = data.to_numpy()\n",
    "\n",
    "x_data = data[:, :300]  # Extract 'x' coordinates\n",
    "y_data = data[:, 300:]  # Extract 'y' coordinates\n",
    "\n",
    "x = np.stack((x_data, y_data), axis=-1)\n",
    "y = labels\n",
    "\n",
    "x_train, x_test, y_train, y_test = train_test_split(x, y, test_size=0.2, random_state=42)"
   ]
  },
  {
   "cell_type": "code",
   "execution_count": 4,
   "metadata": {},
   "outputs": [
    {
     "name": "stdout",
     "output_type": "stream",
     "text": [
      "(2000, 300, 2)\n"
     ]
    }
   ],
   "source": [
    "print(np.shape(x))"
   ]
  },
  {
   "cell_type": "code",
   "execution_count": 4,
   "metadata": {},
   "outputs": [
    {
     "name": "stdout",
     "output_type": "stream",
     "text": [
      "(300, 2)\n"
     ]
    }
   ],
   "source": [
    "print(np.shape(x[0]))"
   ]
  },
  {
   "cell_type": "code",
   "execution_count": 5,
   "metadata": {},
   "outputs": [
    {
     "name": "stdout",
     "output_type": "stream",
     "text": [
      "(2000, 300, 2)\n"
     ]
    }
   ],
   "source": [
    "print(np.shape(x))"
   ]
  },
  {
   "cell_type": "code",
   "execution_count": 6,
   "metadata": {},
   "outputs": [
    {
     "name": "stdout",
     "output_type": "stream",
     "text": [
      "(2000,)\n"
     ]
    }
   ],
   "source": [
    "print(np.shape(y))"
   ]
  },
  {
   "cell_type": "code",
   "execution_count": 4,
   "metadata": {},
   "outputs": [
    {
     "name": "stdout",
     "output_type": "stream",
     "text": [
      "Epoch 1/50\n",
      "25/25 [==============================] - 6s 169ms/step - loss: 0.7044 - accuracy: 0.5969 - val_loss: 0.5597 - val_accuracy: 0.7450\n",
      "Epoch 2/50\n",
      "25/25 [==============================] - 4s 153ms/step - loss: 0.5359 - accuracy: 0.7325 - val_loss: 0.4995 - val_accuracy: 0.7550\n",
      "Epoch 3/50\n",
      "25/25 [==============================] - 4s 153ms/step - loss: 0.4883 - accuracy: 0.7569 - val_loss: 0.4620 - val_accuracy: 0.7625\n",
      "Epoch 4/50\n",
      "25/25 [==============================] - 4s 153ms/step - loss: 0.4400 - accuracy: 0.7894 - val_loss: 0.4226 - val_accuracy: 0.8125\n",
      "Epoch 5/50\n",
      "25/25 [==============================] - 4s 153ms/step - loss: 0.4083 - accuracy: 0.8188 - val_loss: 0.4127 - val_accuracy: 0.8225\n",
      "Epoch 6/50\n",
      "25/25 [==============================] - 4s 153ms/step - loss: 0.3664 - accuracy: 0.8319 - val_loss: 0.4269 - val_accuracy: 0.8150\n",
      "Epoch 7/50\n",
      "25/25 [==============================] - 4s 155ms/step - loss: 0.3501 - accuracy: 0.8431 - val_loss: 0.3569 - val_accuracy: 0.8425\n",
      "Epoch 8/50\n",
      "25/25 [==============================] - 4s 155ms/step - loss: 0.3257 - accuracy: 0.8619 - val_loss: 0.3383 - val_accuracy: 0.8525\n",
      "Epoch 9/50\n",
      "25/25 [==============================] - 4s 155ms/step - loss: 0.2985 - accuracy: 0.8800 - val_loss: 0.3578 - val_accuracy: 0.8300\n",
      "Epoch 10/50\n",
      "25/25 [==============================] - 4s 154ms/step - loss: 0.2791 - accuracy: 0.8894 - val_loss: 0.3234 - val_accuracy: 0.8600\n",
      "Epoch 11/50\n",
      "25/25 [==============================] - 4s 154ms/step - loss: 0.2401 - accuracy: 0.9044 - val_loss: 0.3147 - val_accuracy: 0.8500\n",
      "Epoch 12/50\n",
      "25/25 [==============================] - 4s 155ms/step - loss: 0.2275 - accuracy: 0.9125 - val_loss: 0.3001 - val_accuracy: 0.8750\n",
      "Epoch 13/50\n",
      "25/25 [==============================] - 4s 156ms/step - loss: 0.2042 - accuracy: 0.9244 - val_loss: 0.3018 - val_accuracy: 0.8650\n",
      "Epoch 14/50\n",
      "25/25 [==============================] - 4s 153ms/step - loss: 0.2065 - accuracy: 0.9187 - val_loss: 0.2915 - val_accuracy: 0.8725\n",
      "Epoch 15/50\n",
      "25/25 [==============================] - 4s 155ms/step - loss: 0.1870 - accuracy: 0.9244 - val_loss: 0.2840 - val_accuracy: 0.8900\n",
      "Epoch 16/50\n",
      "25/25 [==============================] - 4s 161ms/step - loss: 0.1666 - accuracy: 0.9331 - val_loss: 0.2774 - val_accuracy: 0.8800\n",
      "Epoch 17/50\n",
      "25/25 [==============================] - 4s 154ms/step - loss: 0.1577 - accuracy: 0.9444 - val_loss: 0.2916 - val_accuracy: 0.8825\n",
      "Epoch 18/50\n",
      "25/25 [==============================] - 4s 155ms/step - loss: 0.1343 - accuracy: 0.9525 - val_loss: 0.2910 - val_accuracy: 0.8750\n",
      "Epoch 19/50\n",
      "25/25 [==============================] - 4s 156ms/step - loss: 0.1292 - accuracy: 0.9538 - val_loss: 0.2713 - val_accuracy: 0.8825\n",
      "Epoch 20/50\n",
      "25/25 [==============================] - 4s 154ms/step - loss: 0.1253 - accuracy: 0.9600 - val_loss: 0.2844 - val_accuracy: 0.8825\n",
      "Epoch 21/50\n",
      "25/25 [==============================] - 4s 154ms/step - loss: 0.1101 - accuracy: 0.9625 - val_loss: 0.2763 - val_accuracy: 0.8775\n",
      "Epoch 22/50\n",
      "25/25 [==============================] - 4s 156ms/step - loss: 0.1009 - accuracy: 0.9669 - val_loss: 0.2770 - val_accuracy: 0.8750\n",
      "Epoch 23/50\n",
      "25/25 [==============================] - 4s 155ms/step - loss: 0.0988 - accuracy: 0.9675 - val_loss: 0.3070 - val_accuracy: 0.8800\n",
      "Epoch 24/50\n",
      "25/25 [==============================] - 4s 155ms/step - loss: 0.0964 - accuracy: 0.9681 - val_loss: 0.2583 - val_accuracy: 0.8950\n",
      "Epoch 25/50\n",
      "25/25 [==============================] - 4s 155ms/step - loss: 0.0844 - accuracy: 0.9744 - val_loss: 0.2481 - val_accuracy: 0.8925\n",
      "Epoch 26/50\n",
      "25/25 [==============================] - 4s 156ms/step - loss: 0.0830 - accuracy: 0.9762 - val_loss: 0.2574 - val_accuracy: 0.8975\n",
      "Epoch 27/50\n",
      "25/25 [==============================] - 4s 157ms/step - loss: 0.0817 - accuracy: 0.9781 - val_loss: 0.2641 - val_accuracy: 0.8925\n",
      "Epoch 28/50\n",
      "25/25 [==============================] - 4s 155ms/step - loss: 0.0928 - accuracy: 0.9663 - val_loss: 0.2625 - val_accuracy: 0.8950\n",
      "Epoch 29/50\n",
      "25/25 [==============================] - 4s 155ms/step - loss: 0.0734 - accuracy: 0.9812 - val_loss: 0.2697 - val_accuracy: 0.8975\n",
      "Epoch 30/50\n",
      "25/25 [==============================] - 4s 156ms/step - loss: 0.0769 - accuracy: 0.9744 - val_loss: 0.2638 - val_accuracy: 0.8925\n",
      "Epoch 31/50\n",
      "25/25 [==============================] - 4s 154ms/step - loss: 0.0721 - accuracy: 0.9750 - val_loss: 0.2419 - val_accuracy: 0.9050\n",
      "Epoch 32/50\n",
      "25/25 [==============================] - 4s 155ms/step - loss: 0.0673 - accuracy: 0.9819 - val_loss: 0.2751 - val_accuracy: 0.9050\n",
      "Epoch 33/50\n",
      "25/25 [==============================] - 4s 155ms/step - loss: 0.0532 - accuracy: 0.9862 - val_loss: 0.2465 - val_accuracy: 0.9100\n",
      "Epoch 34/50\n",
      "25/25 [==============================] - 4s 157ms/step - loss: 0.0449 - accuracy: 0.9900 - val_loss: 0.2352 - val_accuracy: 0.9100\n",
      "Epoch 35/50\n",
      "25/25 [==============================] - 4s 156ms/step - loss: 0.0397 - accuracy: 0.9931 - val_loss: 0.2658 - val_accuracy: 0.9125\n",
      "Epoch 36/50\n",
      "25/25 [==============================] - 4s 156ms/step - loss: 0.0446 - accuracy: 0.9906 - val_loss: 0.2605 - val_accuracy: 0.9100\n",
      "Epoch 37/50\n",
      "25/25 [==============================] - 4s 155ms/step - loss: 0.0409 - accuracy: 0.9906 - val_loss: 0.2590 - val_accuracy: 0.9175\n",
      "Epoch 38/50\n",
      "25/25 [==============================] - 4s 156ms/step - loss: 0.0517 - accuracy: 0.9856 - val_loss: 0.2663 - val_accuracy: 0.9000\n",
      "Epoch 39/50\n",
      "25/25 [==============================] - 4s 156ms/step - loss: 0.0387 - accuracy: 0.9894 - val_loss: 0.2369 - val_accuracy: 0.9200\n",
      "Epoch 40/50\n",
      "25/25 [==============================] - 4s 157ms/step - loss: 0.0328 - accuracy: 0.9931 - val_loss: 0.2190 - val_accuracy: 0.9200\n",
      "Epoch 41/50\n",
      "25/25 [==============================] - 4s 155ms/step - loss: 0.0325 - accuracy: 0.9944 - val_loss: 0.2601 - val_accuracy: 0.9075\n",
      "Epoch 42/50\n",
      "25/25 [==============================] - 4s 155ms/step - loss: 0.0330 - accuracy: 0.9944 - val_loss: 0.2551 - val_accuracy: 0.9125\n",
      "Epoch 43/50\n",
      "25/25 [==============================] - 4s 156ms/step - loss: 0.0335 - accuracy: 0.9931 - val_loss: 0.2418 - val_accuracy: 0.9100\n",
      "Epoch 44/50\n",
      "25/25 [==============================] - 4s 156ms/step - loss: 0.0309 - accuracy: 0.9969 - val_loss: 0.2594 - val_accuracy: 0.9175\n",
      "Epoch 45/50\n",
      "25/25 [==============================] - 4s 156ms/step - loss: 0.0280 - accuracy: 0.9931 - val_loss: 0.2893 - val_accuracy: 0.8975\n",
      "Epoch 46/50\n",
      "25/25 [==============================] - 4s 157ms/step - loss: 0.0319 - accuracy: 0.9919 - val_loss: 0.2690 - val_accuracy: 0.9075\n",
      "Epoch 47/50\n",
      "25/25 [==============================] - 4s 155ms/step - loss: 0.0251 - accuracy: 0.9937 - val_loss: 0.2892 - val_accuracy: 0.9100\n",
      "Epoch 48/50\n",
      "25/25 [==============================] - 4s 155ms/step - loss: 0.0225 - accuracy: 0.9956 - val_loss: 0.2904 - val_accuracy: 0.9150\n",
      "Epoch 49/50\n",
      "25/25 [==============================] - 4s 156ms/step - loss: 0.0206 - accuracy: 0.9956 - val_loss: 0.2955 - val_accuracy: 0.9175\n",
      "Epoch 50/50\n",
      "25/25 [==============================] - 4s 155ms/step - loss: 0.0177 - accuracy: 0.9987 - val_loss: 0.2867 - val_accuracy: 0.9175\n"
     ]
    },
    {
     "data": {
      "text/plain": [
       "<keras.src.callbacks.History at 0x7fbd7c746fd0>"
      ]
     },
     "execution_count": 4,
     "metadata": {},
     "output_type": "execute_result"
    }
   ],
   "source": [
    "from keras.models import Sequential\n",
    "from keras.layers import Conv1D, MaxPooling1D, LSTM, Flatten, Dense, Dropout\n",
    "from keras.optimizers import Adam\n",
    "\n",
    "model = Sequential()\n",
    "model.add(Conv1D(64, 3, activation='relu', input_shape=(300, 2)))\n",
    "model.add(MaxPooling1D())\n",
    "model.add(Flatten())\n",
    "model.add(Dense(256, activation='relu'))\n",
    "model.add(Dropout(0.5))\n",
    "model.add(Dense(1, activation='sigmoid'))\n",
    "\n",
    "model.compile(optimizer=Adam(learning_rate=0.0001), loss='binary_crossentropy', metrics=['accuracy'])\n",
    "\n",
    "model.fit(x_train, y_train, epochs=50, batch_size=64, validation_data=(x_test, y_test))"
   ]
  },
  {
   "cell_type": "code",
   "execution_count": 5,
   "metadata": {},
   "outputs": [
    {
     "name": "stdout",
     "output_type": "stream",
     "text": [
      "INFO:tensorflow:Assets written to: cursor_model/assets\n"
     ]
    },
    {
     "name": "stderr",
     "output_type": "stream",
     "text": [
      "INFO:tensorflow:Assets written to: cursor_model/assets\n"
     ]
    }
   ],
   "source": [
    "from keras.models import load_model\n",
    "\n",
    "model.save('cursor_model')  # Save the model"
   ]
  },
  {
   "cell_type": "code",
   "execution_count": 6,
   "metadata": {},
   "outputs": [
    {
     "data": {
      "text/plain": [
       "[<matplotlib.lines.Line2D at 0x7fbd29237730>]"
      ]
     },
     "execution_count": 6,
     "metadata": {},
     "output_type": "execute_result"
    },
    {
     "data": {
      "image/png": "[encoded data removed]",
      "text/plain": [
       "<Figure size 640x480 with 1 Axes>"
      ]
     },
     "metadata": {},
     "output_type": "display_data"
    }
   ],
   "source": [
    "import matplotlib.pyplot as plt\n",
    "\n",
    "arr = x[1003]\n",
    "x_axis = []\n",
    "y_axis = []\n",
    "for i in arr:\n",
    "    x_axis.append(i[0])\n",
    "    y_axis.append(i[1])\n",
    "\n",
    "plt.plot(x_axis, y_axis)"
   ]
  },
  {
   "cell_type": "code",
   "execution_count": 7,
   "metadata": {},
   "outputs": [
    {
     "name": "stdout",
     "output_type": "stream",
     "text": [
      "1/1 [==============================] - 0s 311ms/step\n",
      "[[0.07669341]]\n"
     ]
    }
   ],
   "source": [
    "single_row = x_test[1].reshape(1, 300, 2)\n",
    "prediction = model.predict(single_row)\n",
    "print(prediction)"
   ]
  }
 ],
 "metadata": {
  "kernelspec": {
   "display_name": "Python 3",
   "language": "python",
   "name": "python3"
  },
  "language_info": {
   "codemirror_mode": {
    "name": "ipython",
    "version": 3
   },
   "file_extension": ".py",
   "mimetype": "text/x-python",
   "name": "python",
   "nbconvert_exporter": "python",
   "pygments_lexer": "ipython3",
   "version": "3.8.10"
  },
  "orig_nbformat": 4
 },
 "nbformat": 4,
 "nbformat_minor": 2
}
